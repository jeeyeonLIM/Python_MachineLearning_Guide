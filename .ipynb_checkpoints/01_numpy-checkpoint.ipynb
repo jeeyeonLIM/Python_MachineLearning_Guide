{
 "cells": [
  {
   "cell_type": "code",
   "execution_count": 3,
   "metadata": {},
   "outputs": [
    {
     "name": "stdout",
     "output_type": "stream",
     "text": [
      "<class 'numpy.ndarray'> (3,) 1\n",
      "<class 'numpy.ndarray'> (2, 3) 2\n",
      "<class 'numpy.ndarray'> (1, 3) 2\n"
     ]
    }
   ],
   "source": [
    "import numpy as np\n",
    "\n",
    "array1= np.array([1,2,3])\n",
    "print(type(array1), array1.shape, array1.ndim)\n",
    "\n",
    "array2= np.array([[1,2,3],\n",
    "                 [2,3,4]])\n",
    "print(type(array2), array2.shape, array2.ndim)\n",
    "\n",
    "array3= np.array([[1,2,3]])\n",
    "print(type(array3), array3.shape, array3.ndim)"
   ]
  },
  {
   "cell_type": "code",
   "execution_count": 4,
   "metadata": {},
   "outputs": [
    {
     "name": "stdout",
     "output_type": "stream",
     "text": [
      "<class 'list'>\n",
      "<class 'numpy.ndarray'> [1 2 3] int32\n"
     ]
    }
   ],
   "source": [
    "# dtype : ndarray 내의 데이터 타입을 나타내 줌(int, float, char, bool 등)\n",
    "\n",
    "list1= [1,2,3]\n",
    "print(type(list1))\n",
    "\n",
    "array1= np.array(list1)\n",
    "print(type(array1), array1, array1.dtype)"
   ]
  },
  {
   "cell_type": "code",
   "execution_count": 6,
   "metadata": {},
   "outputs": [
    {
     "name": "stdout",
     "output_type": "stream",
     "text": [
      "['1' '2' 'test'] <U11\n",
      "[1. 2. 3.] float64\n"
     ]
    }
   ],
   "source": [
    "# array 내에 원소 타입이 섞여 있는 경우, 더 큰 타입으로 변환된다\n",
    "\n",
    "list2=[1,2,'test']\n",
    "array2=np.array(list2)\n",
    "print(array2, array2.dtype) # 숫자형 원소가 문자형으로 변환\n",
    "\n",
    "list3=[1,2,3.0]\n",
    "array3=np.array(list3)\n",
    "print(array3, array3.dtype) # int형이 float 형으로 변환"
   ]
  },
  {
   "cell_type": "code",
   "execution_count": 8,
   "metadata": {},
   "outputs": [
    {
     "name": "stdout",
     "output_type": "stream",
     "text": [
      "[1 2 3] int32\n",
      "[1. 2. 3.] float64\n",
      "[1 2 3] int32\n"
     ]
    }
   ],
   "source": [
    "array_int = np.array([1,2,3])\n",
    "print(array_int, array_int.dtype)\n",
    "\n",
    "# float 형태로 변환\n",
    "array_float = array_int.astype('float64')\n",
    "print(array_float, array_float.dtype)\n",
    "\n",
    "# int32 타입으로 변환\n",
    "array_int1 = array_float.astype('int32')\n",
    "print(array_int1, array_int1.dtype)"
   ]
  },
  {
   "cell_type": "markdown",
   "metadata": {},
   "source": [
    "## ndarray를 편리하게 생성하기 - arange, zeros, ones "
   ]
  },
  {
   "cell_type": "code",
   "execution_count": 9,
   "metadata": {},
   "outputs": [
    {
     "name": "stdout",
     "output_type": "stream",
     "text": [
      "[0 1 2 3 4 5 6 7 8 9] int32 (10,)\n"
     ]
    }
   ],
   "source": [
    "# np.arange : range함수와 유사함.\n",
    "\n",
    "sequence_array= np.arange(10)\n",
    "print(sequence_array, sequence_array.dtype, sequence_array.shape)"
   ]
  },
  {
   "cell_type": "code",
   "execution_count": 11,
   "metadata": {},
   "outputs": [
    {
     "name": "stdout",
     "output_type": "stream",
     "text": [
      "[[0 0]\n",
      " [0 0]\n",
      " [0 0]] int32 (3, 2)\n",
      "[[1. 1.]\n",
      " [1. 1.]\n",
      " [1. 1.]] float64 (3, 2)\n"
     ]
    }
   ],
   "source": [
    "# np.zeros : 0으로 채워서 지정해준 shape만큼의 array를 반환함.\n",
    "# np.ones: np.zeros와 마찬가지로 1값을 채워줌.\n",
    "\n",
    "zero_array= np.zeros((3,2), dtype='int32')\n",
    "one_array= np.ones((3,2))\n",
    "\n",
    "print(zero_array, zero_array.dtype, zero_array.shape)\n",
    "print(one_array, one_array.dtype, one_array.shape)"
   ]
  },
  {
   "cell_type": "markdown",
   "metadata": {},
   "source": [
    "## ndarray 차원, 크기 변경 reshape()"
   ]
  },
  {
   "cell_type": "code",
   "execution_count": 15,
   "metadata": {},
   "outputs": [
    {
     "name": "stdout",
     "output_type": "stream",
     "text": [
      "[0 1 2 3 4 5 6 7 8 9]\n",
      "[[0 1 2 3 4]\n",
      " [5 6 7 8 9]]\n",
      "[[0 1]\n",
      " [2 3]\n",
      " [4 5]\n",
      " [6 7]\n",
      " [8 9]]\n"
     ]
    },
    {
     "ename": "ValueError",
     "evalue": "cannot reshape array of size 10 into shape (4,3)",
     "output_type": "error",
     "traceback": [
      "\u001b[1;31m---------------------------------------------------------------------------\u001b[0m",
      "\u001b[1;31mValueError\u001b[0m                                Traceback (most recent call last)",
      "\u001b[1;32m<ipython-input-15-586b957f051a>\u001b[0m in \u001b[0;36m<module>\u001b[1;34m()\u001b[0m\n\u001b[0;32m      7\u001b[0m \u001b[0mprint\u001b[0m\u001b[1;33m(\u001b[0m\u001b[0marray3\u001b[0m\u001b[1;33m)\u001b[0m\u001b[1;33m\u001b[0m\u001b[0m\n\u001b[0;32m      8\u001b[0m \u001b[1;33m\u001b[0m\u001b[0m\n\u001b[1;32m----> 9\u001b[1;33m \u001b[0marray3\u001b[0m\u001b[1;33m=\u001b[0m \u001b[0marray1\u001b[0m\u001b[1;33m.\u001b[0m\u001b[0mreshape\u001b[0m\u001b[1;33m(\u001b[0m\u001b[1;36m4\u001b[0m\u001b[1;33m,\u001b[0m\u001b[1;36m3\u001b[0m\u001b[1;33m)\u001b[0m\u001b[1;33m\u001b[0m\u001b[0m\n\u001b[0m\u001b[0;32m     10\u001b[0m \u001b[0mprint\u001b[0m\u001b[1;33m(\u001b[0m\u001b[0marray3\u001b[0m\u001b[1;33m)\u001b[0m \u001b[1;31m# Error !-> 10개 원소를 4,3 shape으로 변경하기 어려움.\u001b[0m\u001b[1;33m\u001b[0m\u001b[0m\n",
      "\u001b[1;31mValueError\u001b[0m: cannot reshape array of size 10 into shape (4,3)"
     ]
    }
   ],
   "source": [
    "array1= np.arange(10)\n",
    "array2= array1.reshape(2,5)\n",
    "array3= array1.reshape(5,2)\n",
    "\n",
    "print(array1)\n",
    "print(array2)\n",
    "print(array3)\n",
    "\n",
    "array3= array1.reshape(4,3)\n",
    "print(array3) # Error !-> 10개 원소를 4,3 shape으로 변경하기 어려움."
   ]
  },
  {
   "cell_type": "code",
   "execution_count": null,
   "metadata": {},
   "outputs": [],
   "source": [
    "# -1 값을 넣어주면 알아서 자동변환됨. 호환가능하도록 변환해줌. \n",
    "\n",
    "array1= np.aragne(10)\n",
    "array2= array1.reshape(-1, 5) # col=5에 맞춰 row를 변경해줌.\n",
    "array3= array1.reshape(5, -1) # row=5에 맞춰 col을 변경해줌.\n",
    "\n",
    "print(array2.shape, array3.shape)"
   ]
  },
  {
   "cell_type": "code",
   "execution_count": 18,
   "metadata": {},
   "outputs": [
    {
     "name": "stdout",
     "output_type": "stream",
     "text": [
      "[0, 1, 2, 3, 4, 5, 6, 7] (8,)\n",
      "[[0], [1], [2], [3], [4], [5], [6], [7]] (8, 1)\n",
      "--------------------------------\n",
      "[[[0, 1], [2, 3]], [[4, 5], [6, 7]]] (2, 2, 2)\n",
      "[[0], [1], [2], [3], [4], [5], [6], [7]] (8, 1)\n"
     ]
    }
   ],
   "source": [
    "array1= np.arange(8)\n",
    "array2d = array1.reshape(-1,1) # 1차원 arr를 2차원 arr로 바꿔주기\n",
    "array3d = array1.reshape((2,2,2)) # 1차원 arr를 3차원 arr로 바꿔주기\n",
    "array3d_2 = array3d.reshape(-1,1) # 3d 형태 arr를 2차원 arr로 바꿔주기\n",
    "\n",
    "print(array1.tolist(), array1.shape)\n",
    "print(array2d.tolist(), array2d.shape)\n",
    "print(array3d.tolist(), array3d.shape)\n",
    "print(array3d_2.tolist(), array3d_2.shape)"
   ]
  },
  {
   "cell_type": "markdown",
   "metadata": {},
   "source": [
    "## 넘파이의 ndarray 데이터 세트 선택하기 - Indexing"
   ]
  },
  {
   "cell_type": "code",
   "execution_count": 22,
   "metadata": {},
   "outputs": [
    {
     "name": "stdout",
     "output_type": "stream",
     "text": [
      "[1 2 3 4 5 6 7 8 9] <class 'numpy.ndarray'>\n",
      "3 9\n",
      "[9 2 3 4 5 6 7 8 0]\n"
     ]
    }
   ],
   "source": [
    "### Indexing\n",
    "\n",
    "array1= np.arange(start=1, stop=10)\n",
    "print(array1, type(array1))\n",
    "\n",
    "print(array1[2], array1[-1]) # 맨 뒤 값 가져오기 위해서는 -1 지정.\n",
    "\n",
    "# ndarray 값 수정하기 \n",
    "array1[0] = 9\n",
    "array1[8] = 0\n",
    "print(array1)"
   ]
  },
  {
   "cell_type": "code",
   "execution_count": 24,
   "metadata": {},
   "outputs": [
    {
     "name": "stdout",
     "output_type": "stream",
     "text": [
      "[[1 2 3]\n",
      " [4 5 6]\n",
      " [7 8 9]]\n",
      "1\n"
     ]
    }
   ],
   "source": [
    "array1d = np.arange(start=1, stop=10)\n",
    "array2d = array1d.reshape(3,3)\n",
    "\n",
    "print(array2d)\n",
    "print(array2d[0,0])"
   ]
  },
  {
   "cell_type": "code",
   "execution_count": 27,
   "metadata": {},
   "outputs": [
    {
     "name": "stdout",
     "output_type": "stream",
     "text": [
      "[1 2 3 4 5 6 7 8 9]\n",
      "[1 2 3] <class 'numpy.ndarray'>\n",
      "[1 2 3] <class 'numpy.ndarray'>\n",
      "[4 5 6 7 8 9] <class 'numpy.ndarray'>\n",
      "[1 2 3 4 5 6 7 8 9] <class 'numpy.ndarray'>\n"
     ]
    }
   ],
   "source": [
    "### slicing \n",
    "\n",
    "array1= np.arange(start=1, stop=10)\n",
    "print(array1)\n",
    "\n",
    "array3= array1[0:3] # index=0,1,2값 추출\n",
    "print(array3, type(array3))\n",
    "\n",
    "array4= array1[:3]\n",
    "print(array4, type(array4))\n",
    "\n",
    "array5= array1[3:]\n",
    "print(array5, type(array5))\n",
    "\n",
    "array6= array1[:] # 전체 다 나옴\n",
    "print(array6, type(array6))"
   ]
  },
  {
   "cell_type": "code",
   "execution_count": 29,
   "metadata": {},
   "outputs": [
    {
     "name": "stdout",
     "output_type": "stream",
     "text": [
      "[[1 2 3]\n",
      " [4 5 6]\n",
      " [7 8 9]]\n",
      "[[1 2]\n",
      " [4 5]]\n",
      "[1 2 3] (3,)\n"
     ]
    }
   ],
   "source": [
    "array1d = np.arange(start=1, stop=10)\n",
    "array2d = array1d.reshape(3,3)\n",
    "print(array2d)\n",
    "\n",
    "print(array2d[0:2,0:2])\n",
    "\n",
    "print(array2d[0],array2d[0].shape ) # 1차원 ndarray 반환"
   ]
  },
  {
   "cell_type": "code",
   "execution_count": 32,
   "metadata": {},
   "outputs": [
    {
     "name": "stdout",
     "output_type": "stream",
     "text": [
      "[[1 2 3]\n",
      " [4 5 6]\n",
      " [7 8 9]]\n",
      "[3 6]\n",
      "[[1 2 3]\n",
      " [4 5 6]]\n"
     ]
    }
   ],
   "source": [
    "### 팬시 인덱싱 \n",
    "\n",
    "print(array2d)\n",
    "\n",
    "array4= array2d[[0,1], 2] # row에는 0,1 인덱스 번호를 추출하고, col은 2에 해당하는 인덱스 번호 추출.\n",
    "print(array4.tolist())\n",
    "\n",
    "array5= array2d[[0,1]] # (0,:) (1,:) : 즉 0,1 row 추출됨. \n",
    "print(array5.tolist()) "
   ]
  },
  {
   "cell_type": "code",
   "execution_count": 37,
   "metadata": {},
   "outputs": [
    {
     "name": "stdout",
     "output_type": "stream",
     "text": [
      "[1 2 3 4 5 6 7 8 9]\n",
      "[False False False False False  True  True  True  True]\n",
      "[6 7 8 9]\n",
      "[1 3 5 7]\n"
     ]
    }
   ],
   "source": [
    "### 불린 인덱싱\n",
    "\n",
    "array1d= np.arange(start=1, stop=10)\n",
    "print(array1d)\n",
    "\n",
    "array2 = array1d > 5 # 불린값 지정\n",
    "print(array2)\n",
    "\n",
    "array3 = array1d[array1d > 5]\n",
    "print(array3)\n",
    "\n",
    "# 만약 index값을 주고 그것에 해당하는 값만 추출할 때\n",
    "indexes= np.array([0,2,4,6])\n",
    "array4= array1d[indexes]\n",
    "print(array4)"
   ]
  },
  {
   "cell_type": "markdown",
   "metadata": {},
   "source": [
    "## 행렬의 정렬 - sort(), argsort()\n",
    "- np.sort()\n",
    "- np.argsort()"
   ]
  },
  {
   "cell_type": "code",
   "execution_count": 45,
   "metadata": {},
   "outputs": [
    {
     "name": "stdout",
     "output_type": "stream",
     "text": [
      "[3, 1, 9, 5]\n",
      "[1 3 5 9]\n",
      "[3, 1, 9, 5]\n",
      "None\n",
      "[1, 3, 5, 9]\n",
      "-------------------\n",
      "[9 5 3 1]\n",
      "None\n",
      "[9, 5, 3, 1]\n"
     ]
    }
   ],
   "source": [
    "### 1차원에서의 정렬 \n",
    "\n",
    "org_array=[3,1,9,5]\n",
    "print(org_array)\n",
    "\n",
    "sort_array = np.sort(org_array)\n",
    "print(sort_array)\n",
    "print(org_array)# np.sort()로는 original array가 변화하지 않는다.\n",
    "\n",
    "sort_array1 = org_array.sort()\n",
    "print(sort_array1) # myarray.sort()로는 array를 반환하진 않는다.\n",
    "print(org_array) # original array를 정렬한다.\n",
    "\n",
    "print(\"-------------------\")\n",
    "\n",
    "sort_array1_desc= np.sort(org_array)[::-1] #  decreasing \n",
    "print(sort_array1_desc)\n",
    "\n",
    "sort_array1_desc_2= org_array.sort(reverse=True)\n",
    "print(sort_array1_desc_2)\n",
    "print(org_array)\n",
    "\n",
    "### 즉 앞으로는 original.sort(reverse=True)를 활용하자"
   ]
  },
  {
   "cell_type": "code",
   "execution_count": 47,
   "metadata": {},
   "outputs": [
    {
     "name": "stdout",
     "output_type": "stream",
     "text": [
      "[[ 7  1]\n",
      " [ 8 12]]\n",
      "[[ 8 12]\n",
      " [ 1  7]]\n"
     ]
    }
   ],
   "source": [
    "### 2차원 이상의 행렬의 정렬\n",
    "\n",
    "array2d = np.array([[8,12],\n",
    "                   [7,1]])\n",
    "\n",
    "array2d_sort_axis0 = np.sort(array2d, axis=0) # axis=0즉 row방향으로 정렬됨.\n",
    "print(array2d_sort_axis0) \n",
    "    # row가 여러개라고 보고 각각을 정렬. 즉 (8,7)을 (7,8)로 정렬하고 (12,1)을 (1,12)로 정렬함\n",
    "\n",
    "array2d_sort_axis1 = np.sort(array2d, axis=1)\n",
    "print(array2d_sort_axis1)\n",
    "    # col이 여러개라고 보고 각각을 정렬. 즉 (8,12)를 정렬해서 (8,12)로, (7,1)을 정렬해서 (1,7)로!\n",
    "    "
   ]
  },
  {
   "cell_type": "code",
   "execution_count": 51,
   "metadata": {},
   "outputs": [
    {
     "name": "stdout",
     "output_type": "stream",
     "text": [
      "[3 1 9 5]\n",
      "[1 0 3 2]\n",
      "[1 3 5 9]\n",
      "-------------------------\n",
      "[3 1 9 5]\n",
      "[2 3 0 1]\n",
      "[9 5 3 1]\n"
     ]
    }
   ],
   "source": [
    "### argsort : 정렬된 행렬의 기존 index 반환하기 \n",
    "\n",
    "org_array= np.array([3,1,9,5])\n",
    "sort_indices= np.argsort(org_array)\n",
    "\n",
    "print(org_array)\n",
    "print(sort_indices) # 정렬 순서를 나타내는 값의 index 즉 1번째 index가 먼저, 0번째 index가 다음.... \n",
    "print(org_array[sort_indices]) # 해당 index값을 가져오기 위해서.\n",
    "\n",
    "print(\"-------------------------\")\n",
    "# 역순 정렬을 위해서는\n",
    "sort_indices_desc = np.argsort(org_array)[::-1]\n",
    "\n",
    "print(org_array)\n",
    "print(sort_indices_desc)\n",
    "print(org_array[sort_indices_desc])\n"
   ]
  },
  {
   "cell_type": "markdown",
   "metadata": {},
   "source": [
    "## 선형대수 연산 - 행렬 내적, 전치행렬 구하기"
   ]
  },
  {
   "cell_type": "code",
   "execution_count": 54,
   "metadata": {},
   "outputs": [
    {
     "name": "stdout",
     "output_type": "stream",
     "text": [
      "(2, 3) (3, 2) (2, 2)\n",
      "[[ 58  64]\n",
      " [139 154]]\n"
     ]
    }
   ],
   "source": [
    "### np.dot : 행렬 내적( 행렬의 곱셈)\n",
    "\n",
    "A= np.array([[1,2,3],\n",
    "            [4,5,6]])\n",
    "B= np.array([[7,8],\n",
    "            [9,10],\n",
    "            [11,12]])\n",
    "\n",
    "dot_product= np.dot(A,B)\n",
    "print(A.shape, B.shape, dot_product.shape) # (2x3) x (3x2) = (2x2)\n",
    "print(dot_product)"
   ]
  },
  {
   "cell_type": "code",
   "execution_count": 56,
   "metadata": {},
   "outputs": [
    {
     "name": "stdout",
     "output_type": "stream",
     "text": [
      "[[1 4]\n",
      " [2 5]\n",
      " [3 6]]\n"
     ]
    }
   ],
   "source": [
    "### np.transpose : 전치행렬\n",
    "\n",
    "A= np.array([[1,2,3],\n",
    "            [4,5,6]])\n",
    "transpose_A= np.transpose(A)\n",
    "print(transpose_A)\n"
   ]
  },
  {
   "cell_type": "code",
   "execution_count": null,
   "metadata": {},
   "outputs": [],
   "source": []
  }
 ],
 "metadata": {
  "kernelspec": {
   "display_name": "Python [default]",
   "language": "python",
   "name": "python3"
  },
  "language_info": {
   "codemirror_mode": {
    "name": "ipython",
    "version": 3
   },
   "file_extension": ".py",
   "mimetype": "text/x-python",
   "name": "python",
   "nbconvert_exporter": "python",
   "pygments_lexer": "ipython3",
   "version": "3.6.5"
  }
 },
 "nbformat": 4,
 "nbformat_minor": 2
}

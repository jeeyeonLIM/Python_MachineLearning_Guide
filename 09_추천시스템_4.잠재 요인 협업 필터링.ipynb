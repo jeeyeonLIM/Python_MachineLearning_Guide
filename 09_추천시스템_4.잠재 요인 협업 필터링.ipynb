{
 "cells": [
  {
   "cell_type": "markdown",
   "metadata": {},
   "source": [
    "### SGD(Stochastic Gradient Descent) 이용한 행렬분해 \n",
    "- R = P*Q -> Real R과 가깝도록(오류 최소화하여) 반복하여 P,Q 찾기 \n",
    "\n",
    "#### Algorithm\n",
    "- 1. P,Q 임의로 설정 \n",
    "- 2. pred(R) = P*t(Q) -> Error= pred(R) - real(R) \n",
    "- 3. minimize(Error) -> update P,Q !!\n",
    "- 4. 반복\n",
    "\n",
    "- L2-norm Cost function은 아래와 같다.\n",
    "   - min(sum(realR - P*t(Q))) + lambda(q^2 + p^2) "
   ]
  },
  {
   "cell_type": "code",
   "execution_count": 11,
   "metadata": {},
   "outputs": [
    {
     "name": "stdout",
     "output_type": "stream",
     "text": [
      "4 5 3\n",
      "[[ 0.54144845 -0.2039188  -0.17605725]\n",
      " [-0.35765621  0.28846921 -0.76717957]\n",
      " [ 0.58160392 -0.25373563  0.10634637]\n",
      " [-0.08312346  0.48736931 -0.68671357]]\n",
      "[[-0.1074724  -0.12801812  0.37792315]\n",
      " [-0.36663042 -0.05747607 -0.29261947]\n",
      " [ 0.01407125  0.19427174 -0.36687306]\n",
      " [ 0.38157457  0.30053024  0.16749811]\n",
      " [ 0.30028532 -0.22790929 -0.04096341]]\n",
      "[[-0.1074724  -0.36663042  0.01407125  0.38157457  0.30028532]\n",
      " [-0.12801812 -0.05747607  0.19427174  0.30053024 -0.22790929]\n",
      " [ 0.37792315 -0.29261947 -0.36687306  0.16749811 -0.04096341]]\n"
     ]
    }
   ],
   "source": [
    "import numpy as np\n",
    "\n",
    "# R 생성, P,Q 초기화, K=3 으로 설정 \n",
    "R = np.array([[4, np.NaN, np.NaN, 2, np.NaN],\n",
    "              [np.NaN, 5, np.NaN, 3,1],\n",
    "              [np.NaN, np.NaN, 3,4,4],\n",
    "              [5,2,1,2,np.NaN]])\n",
    "num_users, num_items= R.shape\n",
    "K=3 # 잠재요인의 차원 \n",
    "\n",
    "print(num_users, num_items, K) # R은 4x4 행렬\n",
    "\n",
    "np.random.seed(1)\n",
    "P= np.random.normal(scale = 1./K, size = (num_users, K)) \n",
    "Q= np.random.normal(scale = 1./K, size = (num_items, K))\n",
    "    # scale(표준편차) 디폴트 1 인데 1/K로 조정 \n",
    "    # 행렬 size 지정(잠재요인 차원수를 col으로 맞춰줌)\n",
    "\n",
    "print(P) \n",
    "print(Q)\n",
    "print(Q.T) # transpose , size = (K, num_items) "
   ]
  },
  {
   "cell_type": "code",
   "execution_count": 12,
   "metadata": {},
   "outputs": [],
   "source": [
    "# 실제 R 행렬과 예측 행렬의 오차를 구하는 함수 만들기 \n",
    "\n",
    "from sklearn.metrics import mean_squared_error\n",
    "\n",
    "def get_rmse(R, P, Q, non_zeros):\n",
    "    error = 0 # 초기값 \n",
    "    \n",
    "    # pred R 생성하기 - P와 t(Q)의 내적으로 \n",
    "    full_pred_matrix = np.dot(P, Q.T)\n",
    "    \n",
    "    # 실제 R 행렬에서 Null값이 아닌 값의 인덱스 추출해서 실제 R 행렬과 예측 행렬의 RMSE 계산\n",
    "    x_non_zero_ind= [non_zero[0] for non_zero in non_zeros] # non-zero index - x\n",
    "    y_non_zero_ind= [non_zero[1] for non_zero in non_zeros] # non-zero-index - y\n",
    "    \n",
    "    R_non_zeros = R[x_non_zero_ind, y_non_zero_ind]\n",
    "    full_pred_matrix_non_zeros= full_pred_matrix[x_non_zero_ind, y_non_zero_ind]\n",
    "    \n",
    "    # 최종 rmse 계산\n",
    "    mse = mean_squared_error(R_non_zeros, full_pred_matrix_non_zeros)\n",
    "    rmse= np.sqrt(mse)\n",
    "    \n",
    "    return rmse"
   ]
  },
  {
   "cell_type": "code",
   "execution_count": 13,
   "metadata": {},
   "outputs": [
    {
     "data": {
      "text/plain": [
       "[(0, 0, 4.0),\n",
       " (0, 3, 2.0),\n",
       " (1, 1, 5.0),\n",
       " (1, 3, 3.0),\n",
       " (1, 4, 1.0),\n",
       " (2, 2, 3.0),\n",
       " (2, 3, 4.0),\n",
       " (2, 4, 4.0),\n",
       " (3, 0, 5.0),\n",
       " (3, 1, 2.0),\n",
       " (3, 2, 1.0),\n",
       " (3, 3, 2.0)]"
      ]
     },
     "execution_count": 13,
     "metadata": {},
     "output_type": "execute_result"
    }
   ],
   "source": [
    "# R >0 행위치, 열위치, 값을 non-zeros 리스트에 저장 \n",
    "non_zeros = [ (i, j, R[i,j]) for i in range(num_users) for j in range(num_items) if R[i,j] > 0 ]\n",
    "\n",
    "non_zeros"
   ]
  },
  {
   "cell_type": "code",
   "execution_count": 14,
   "metadata": {},
   "outputs": [
    {
     "name": "stdout",
     "output_type": "stream",
     "text": [
      "### iteration step :  0  rmse :  3.2388050277987723\n",
      "### iteration step :  50  rmse :  0.4876723101369648\n",
      "### iteration step :  100  rmse :  0.1564340384819247\n",
      "### iteration step :  150  rmse :  0.07455141311978046\n",
      "### iteration step :  200  rmse :  0.04325226798579314\n",
      "### iteration step :  250  rmse :  0.029248328780878973\n",
      "### iteration step :  300  rmse :  0.022621116143829466\n",
      "### iteration step :  350  rmse :  0.019493636196525135\n",
      "### iteration step :  400  rmse :  0.018022719092132704\n",
      "### iteration step :  450  rmse :  0.01731968595344266\n",
      "### iteration step :  500  rmse :  0.016973657887570753\n",
      "### iteration step :  550  rmse :  0.016796804595895633\n",
      "### iteration step :  600  rmse :  0.01670132290188466\n",
      "### iteration step :  650  rmse :  0.01664473691247669\n",
      "### iteration step :  700  rmse :  0.016605910068210026\n",
      "### iteration step :  750  rmse :  0.016574200475705\n",
      "### iteration step :  800  rmse :  0.01654431582921597\n",
      "### iteration step :  850  rmse :  0.01651375177473524\n",
      "### iteration step :  900  rmse :  0.01648146573819501\n",
      "### iteration step :  950  rmse :  0.016447171683479155\n"
     ]
    }
   ],
   "source": [
    "### Parameter Setting \n",
    "steps=1000\n",
    "learning_rate=0.01\n",
    "r_lambda=0.01\n",
    "\n",
    "\n",
    "# SGD로 P, Q matrix upate \n",
    "for step in range(steps):\n",
    "    for i, j, r in non_zeros:\n",
    "        # 실제 값과 예측 값의 차이인 오류 값 구함\n",
    "        eij = r - np.dot(P[i, :], Q[j, :].T)\n",
    "        \n",
    "        # L2- norm 적용한 SGD update\n",
    "        P[i,:] = P[i,:] + learning_rate*(eij * Q[j, :] - r_lambda*P[i,:])\n",
    "        Q[j,:] = Q[j,:] + learning_rate*(eij * P[i, :] - r_lambda*Q[j,:])\n",
    "\n",
    "    rmse = get_rmse(R, P, Q, non_zeros)\n",
    "    \n",
    "    if (step % 50) == 0 :# 중간확인\n",
    "        print(\"### iteration step : \", step,\" rmse : \", rmse)\n"
   ]
  },
  {
   "cell_type": "code",
   "execution_count": 18,
   "metadata": {},
   "outputs": [
    {
     "name": "stdout",
     "output_type": "stream",
     "text": [
      "예측행렬 :\n",
      " [[3.991 0.897 1.306 2.002 1.663]\n",
      " [6.696 4.978 0.979 2.981 1.003]\n",
      " [6.677 0.391 2.987 3.977 3.986]\n",
      " [4.968 2.005 1.006 2.017 1.14 ]]\n",
      "실제행렬 :\n",
      " [[ 4. nan nan  2. nan]\n",
      " [nan  5. nan  3.  1.]\n",
      " [nan nan  3.  4.  4.]\n",
      " [ 5.  2.  1.  2. nan]]\n"
     ]
    }
   ],
   "source": [
    "pred_matrix = np.dot(P, Q.T)\n",
    "print(\"예측행렬 :\\n\", np.round(pred_matrix, 3))\n",
    "print(\"실제행렬 :\\n\", R) "
   ]
  },
  {
   "cell_type": "markdown",
   "metadata": {},
   "source": [
    "- NULL값이 아닌 값은 비슷한 값으로 잘 나옴 확인.\n",
    "- NULL값은 새로운 예측값으로 채워짐."
   ]
  },
  {
   "cell_type": "code",
   "execution_count": null,
   "metadata": {},
   "outputs": [],
   "source": []
  },
  {
   "cell_type": "code",
   "execution_count": null,
   "metadata": {},
   "outputs": [],
   "source": []
  },
  {
   "cell_type": "code",
   "execution_count": null,
   "metadata": {},
   "outputs": [],
   "source": []
  },
  {
   "cell_type": "code",
   "execution_count": null,
   "metadata": {},
   "outputs": [],
   "source": []
  },
  {
   "cell_type": "code",
   "execution_count": null,
   "metadata": {},
   "outputs": [],
   "source": []
  }
 ],
 "metadata": {
  "kernelspec": {
   "display_name": "Python [default]",
   "language": "python",
   "name": "python3"
  },
  "language_info": {
   "codemirror_mode": {
    "name": "ipython",
    "version": 3
   },
   "file_extension": ".py",
   "mimetype": "text/x-python",
   "name": "python",
   "nbconvert_exporter": "python",
   "pygments_lexer": "ipython3",
   "version": "3.6.5"
  }
 },
 "nbformat": 4,
 "nbformat_minor": 2
}

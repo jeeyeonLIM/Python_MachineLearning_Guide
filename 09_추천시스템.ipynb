{
 "cells": [
  {
   "cell_type": "markdown",
   "metadata": {},
   "source": [
    "### SGD(Stochastic Gradient Descent) \n",
    "- matrix decomposition method\n",
    "- R = P*Q -> Real R과 가깝도록(오류 최소화하여) 반복하여 P,Q 찾기 \n",
    "\n",
    "#### Algorithm\n",
    "- 1. P,Q 임의로 설정 \n",
    "- 2. pred(R) = P*t(Q) -> Error= pred(R) - real(R) \n",
    "- 3. minimize(Error) -> update P,Q !!\n",
    "- 4. 반복\n",
    "\n",
    "- L2-norm Cost function은 아래와 같다.\n",
    "   - min(sum(realR - P*t(Q))) + lambda(q^2 + p^2) "
   ]
  },
  {
   "cell_type": "code",
   "execution_count": 10,
   "metadata": {},
   "outputs": [
    {
     "name": "stdout",
     "output_type": "stream",
     "text": [
      "4 5 3\n",
      "[[ 0.54144845 -0.2039188  -0.17605725]\n",
      " [-0.35765621  0.28846921 -0.76717957]\n",
      " [ 0.58160392 -0.25373563  0.10634637]\n",
      " [-0.08312346  0.48736931 -0.68671357]]\n",
      "[[-0.1074724  -0.12801812  0.37792315]\n",
      " [-0.36663042 -0.05747607 -0.29261947]\n",
      " [ 0.01407125  0.19427174 -0.36687306]\n",
      " [ 0.38157457  0.30053024  0.16749811]\n",
      " [ 0.30028532 -0.22790929 -0.04096341]]\n"
     ]
    }
   ],
   "source": [
    "import numpy as np\n",
    "\n",
    "# R 생성, P,Q 초기화, K=3 으로 설정 \n",
    "R = np.array([[4, np.NaN, np.NaN, 2, np.NaN],\n",
    "              [np.NaN, 5, np.NaN, 3,1],\n",
    "              [np.NaN, np.NaN, 3,4,4],\n",
    "              [5,2,1,2,np.NaN]])\n",
    "num_users, num_items= R.shape\n",
    "K=3 # 잠재요인의 차원 \n",
    "\n",
    "print(num_users, num_items, K) # R은 4x4 행렬\n",
    "\n",
    "np.random.seed(1)\n",
    "P= np.random.normal(scale = 1./K, size = (num_users, K)) \n",
    "Q= np.random.normal(scale = 1./K, size = (num_items, K))\n",
    "    # scale(표준편차) 디폴트 1 인데 1/K로 조정 \n",
    "    # 행렬 size 지정(잠재요인 차원수를 col으로 맞춰줌)\n",
    "\n",
    "print(P) \n",
    "print(Q)\n",
    "\n",
    "\n",
    "\n",
    "\n",
    "\n",
    "\n",
    "\n"
   ]
  },
  {
   "cell_type": "code",
   "execution_count": null,
   "metadata": {},
   "outputs": [],
   "source": []
  },
  {
   "cell_type": "code",
   "execution_count": null,
   "metadata": {},
   "outputs": [],
   "source": []
  }
 ],
 "metadata": {
  "kernelspec": {
   "display_name": "Python [default]",
   "language": "python",
   "name": "python3"
  },
  "language_info": {
   "codemirror_mode": {
    "name": "ipython",
    "version": 3
   },
   "file_extension": ".py",
   "mimetype": "text/x-python",
   "name": "python",
   "nbconvert_exporter": "python",
   "pygments_lexer": "ipython3",
   "version": "3.6.5"
  }
 },
 "nbformat": 4,
 "nbformat_minor": 2
}

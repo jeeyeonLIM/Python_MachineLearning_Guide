{
 "cells": [
  {
   "cell_type": "markdown",
   "metadata": {},
   "source": [
    "- 패키지 공부는 따로 하지는 않으려고 한다. 필요할때 책 참고해서 사용하면 될것 같다.\n",
    "- 다만 필요한 내용 몇가지를 정리해 놓으려고 한다.\n",
    "- 필요할 때 이 노트에서 사용하면 좋을것 같다.\n",
    "\n",
    "### Surprise 패키지 장점\n",
    "- 다양한 알고리즘을 쉽게 구축할 수 있다. (SVD, SVD++, NMF) \n",
    "- 사이킷런처럼 추천시스템을 위한 Model Selection, Evaluation, Hyperparameter Tuning 등 일반적인 모델 구축 과정에 필요한 기능을 제공한다. \n",
    "\n",
    "### 기타 특징\n",
    "- userId, itemId, Rating (유저, 아이템, 평점) 이렇게 세가지 칼럼만 데이터를 받을 수 있다.(네번째 칼럼부터는 무시) --> 제한적이다.\n",
    "- \n",
    "\n",
    "\n",
    "### 추천 알고리즘 클래스\n",
    "- SVD : SVD알고리즘 , 행렬분해 이용한 잠재요인 협업필터링에 사용\n",
    "    - Parameter 종류로는 n_factors(잠재요인수), n_epochs(학습횟수, 디폴트20), biased(사용자편향 적용여부)\n",
    "    - 튜닝 효과는 크지 않음.\n",
    "- KNNBasic : KNN알고리즘, 최근접이웃 협업필터링에 사용 \n",
    "- BaselineOnly : SGD베이스라인 알고리즘, 사용자 Bias & Item Bias 감안한 알고리즘\n",
    "\n",
    "### 베이스라인 평점\n",
    "- 개인의 성향에 따라서 달라지는 평점의 Bias를 어느정도 감안해주기 위한 방안. \n",
    "- 가령 평가에 후한 사람과 평가에 냉정한 사람이 존재하기 때문\n",
    "- ```모든 사용자 평점평균 + 사용자 편향 점수(특정 사용자 평점 평균 - 모든사용자 평점평균) + 아이템 평향점수(아이템 평점평균 - 전체평균평점)```"
   ]
  },
  {
   "cell_type": "code",
   "execution_count": null,
   "metadata": {},
   "outputs": [],
   "source": []
  },
  {
   "cell_type": "code",
   "execution_count": null,
   "metadata": {},
   "outputs": [],
   "source": []
  },
  {
   "cell_type": "code",
   "execution_count": null,
   "metadata": {},
   "outputs": [],
   "source": []
  }
 ],
 "metadata": {
  "kernelspec": {
   "display_name": "Python [default]",
   "language": "python",
   "name": "python3"
  },
  "language_info": {
   "codemirror_mode": {
    "name": "ipython",
    "version": 3
   },
   "file_extension": ".py",
   "mimetype": "text/x-python",
   "name": "python",
   "nbconvert_exporter": "python",
   "pygments_lexer": "ipython3",
   "version": "3.6.5"
  }
 },
 "nbformat": 4,
 "nbformat_minor": 2
}
